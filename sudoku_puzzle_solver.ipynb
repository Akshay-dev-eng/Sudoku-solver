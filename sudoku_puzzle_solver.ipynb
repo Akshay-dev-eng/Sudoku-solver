{
 "cells": [
  {
   "cell_type": "code",
   "execution_count": 1,
   "metadata": {},
   "outputs": [],
   "source": [
    "def sudoku(problem):    \n",
    "    import numpy as np\n",
    "    N = [1,2,3,4,5,6,7,8,9]\n",
    "    n=set(N)\n",
    "    problem = np.array(problem)\n",
    "    flag=True\n",
    "    while problem.sum() != 405: \n",
    "        problem_copy=np.copy(problem)\n",
    "        ls1=[]\n",
    "        ls2=[]\n",
    "        #ls2 will be the list of list of numbers (nested list) that are to be filled for each of the '9' \"3 x 3\" matrices.\n",
    "\n",
    "        for i in range(9):\n",
    "            for j in range(9):\n",
    "                if i%3==0 and j%3==0:\n",
    "                    for k in problem[i:i+3,j:j+3]:\n",
    "                        for l in range(3):\n",
    "                            z=k[l]\n",
    "                            ls1.append(z)\n",
    "                    s1=set(ls1)\n",
    "                    s2=n-s1\n",
    "                    ls2.append(s2)\n",
    "                    if len(s2)==1:\n",
    "                        problem[i:i+3,j:j+3]=np.where(problem[i:i+3,j:j+3]==0, list(s2)[0], problem[i:i+3,j:j+3])\n",
    "                    ls1=[]\n",
    "\n",
    "        for i in range(9):\n",
    "            for j in range(9):\n",
    "                if problem[i][j]==0:\n",
    "                    s3 = set(list(problem[:,j])+list(problem[i,:]))\n",
    "                    s4=n-s3\n",
    "                    if len(s4)==1:\n",
    "                        problem[i][j]=list(s4)[0]\n",
    "                    if len(s4)!=1:\n",
    "                        if i<3:\n",
    "                            if j<3:\n",
    "                                if len(s4 & ls2[0]) == 1:\n",
    "                                    problem[i][j]=list(s4 & ls2[0])[0]\n",
    "\n",
    "                            elif j<6:\n",
    "                                if len(s4 & ls2[1]) == 1:\n",
    "                                    problem[i][j]=list(s4 & ls2[1])[0]\n",
    "\n",
    "                            elif j<9:\n",
    "                                if len(s4 & ls2[2]) == 1:\n",
    "                                    problem[i][j]=list(s4 & ls2[2])[0]\n",
    "\n",
    "\n",
    "                        elif i<6:\n",
    "                            if j<3:\n",
    "                                if len(s4 & ls2[3]) == 1:\n",
    "                                    problem[i][j]=list(s4 & ls2[3])[0]\n",
    "\n",
    "                            elif j<6:\n",
    "                                if len(s4 & ls2[4]) == 1:\n",
    "                                    problem[i][j]=list(s4 & ls2[4])[0] \n",
    "\n",
    "                            elif j<9:\n",
    "                                if len(s4 & ls2[5]) == 1:\n",
    "                                    problem[i][j]=list(s4 & ls2[5])[0]\n",
    "\n",
    "\n",
    "                        elif i<9:\n",
    "                            if j<3:\n",
    "                                if len(s4 & ls2[6]) == 1:\n",
    "                                    problem[i][j]=list(s4 & ls2[6])[0]\n",
    "\n",
    "                            elif j<6:\n",
    "                                if len(s4 & ls2[7]) == 1:\n",
    "                                    problem[i][j]=list(s4 & ls2[7])[0]\n",
    "\n",
    "                            elif j<9:\n",
    "                                if len(s4 & ls2[8]) == 1:\n",
    "                                    problem[i][j]=list(s4 & ls2[8])[0]\n",
    "\n",
    "\n",
    "        compare = problem_copy == problem\n",
    "        equal_arrays = compare.all()\n",
    "        if equal_arrays:\n",
    "            print('Sorry, either the puzzle is very hard or the entry is invalid')\n",
    "            flag = False\n",
    "            break\n",
    "    if flag:\n",
    "        print(\"The solution for the sudoku puzzle is : \",problem)"
   ]
  },
  {
   "cell_type": "code",
   "execution_count": 2,
   "metadata": {},
   "outputs": [],
   "source": [
    "#Example problem 1\n",
    "problem1 = [[0, 0, 0, 2, 6, 0, 7, 0, 1],\n",
    "           [6, 8, 0, 0, 7, 0, 0, 9, 0],\n",
    "           [1, 9, 0, 0, 0, 4, 5, 0, 0],\n",
    "           [8, 2, 0, 1, 0, 0, 0, 4, 0],\n",
    "           [0, 0, 4, 6, 0, 2, 9, 0, 0],\n",
    "           [0, 5, 0, 0, 0, 3, 0, 2, 8],\n",
    "           [0, 0, 9, 3, 0, 0, 0, 7, 4],\n",
    "           [0, 4, 0, 0, 5, 0, 0, 3, 6],\n",
    "            [7, 0, 3, 0, 1, 8, 0, 0, 0]]"
   ]
  },
  {
   "cell_type": "code",
   "execution_count": 3,
   "metadata": {},
   "outputs": [],
   "source": [
    "#Example problem 2\n",
    "problem2 = [[5, 3, 0, 0, 7, 0, 0, 0, 0],\n",
    "           [6, 0, 0, 1, 9, 5, 0, 0, 0],\n",
    "           [0, 9, 8, 0, 0, 0, 0, 6, 0],\n",
    "           [8, 0, 0, 0, 6, 0, 0, 0, 3],\n",
    "           [4, 0, 0, 8, 0, 3, 0, 0, 1],\n",
    "           [7, 0, 0, 0, 2, 0, 0, 0, 6],\n",
    "           [0, 6, 0, 0, 0, 0, 2, 8, 0],\n",
    "           [0, 0, 0, 4, 1, 9, 0, 0, 5],\n",
    "            [0, 0, 0, 0, 8, 0, 0, 7, 9]]"
   ]
  },
  {
   "cell_type": "code",
   "execution_count": 4,
   "metadata": {},
   "outputs": [
    {
     "name": "stdout",
     "output_type": "stream",
     "text": [
      "The solution for the sudoku puzzle is :  [[4 3 5 2 6 9 7 8 1]\n",
      " [6 8 2 5 7 1 4 9 3]\n",
      " [1 9 7 8 3 4 5 6 2]\n",
      " [8 2 6 1 9 5 3 4 7]\n",
      " [3 7 4 6 8 2 9 1 5]\n",
      " [9 5 1 7 4 3 6 2 8]\n",
      " [5 1 9 3 2 6 8 7 4]\n",
      " [2 4 8 9 5 7 1 3 6]\n",
      " [7 6 3 4 1 8 2 5 9]]\n"
     ]
    }
   ],
   "source": [
    "sudoku(problem1)"
   ]
  },
  {
   "cell_type": "code",
   "execution_count": 5,
   "metadata": {},
   "outputs": [
    {
     "name": "stdout",
     "output_type": "stream",
     "text": [
      "The solution for the sudoku puzzle is :  [[5 3 4 6 7 8 9 1 2]\n",
      " [6 7 2 1 9 5 3 4 8]\n",
      " [1 9 8 3 4 2 5 6 7]\n",
      " [8 5 9 7 6 1 4 2 3]\n",
      " [4 2 6 8 5 3 7 9 1]\n",
      " [7 1 3 9 2 4 8 5 6]\n",
      " [9 6 1 5 3 7 2 8 4]\n",
      " [2 8 7 4 1 9 6 3 5]\n",
      " [3 4 5 2 8 6 1 7 9]]\n"
     ]
    }
   ],
   "source": [
    "sudoku(problem2)"
   ]
  },
  {
   "cell_type": "code",
   "execution_count": null,
   "metadata": {},
   "outputs": [],
   "source": []
  }
 ],
 "metadata": {
  "kernelspec": {
   "display_name": "Python 3",
   "language": "python",
   "name": "python3"
  },
  "language_info": {
   "codemirror_mode": {
    "name": "ipython",
    "version": 3
   },
   "file_extension": ".py",
   "mimetype": "text/x-python",
   "name": "python",
   "nbconvert_exporter": "python",
   "pygments_lexer": "ipython3",
   "version": "3.7.4"
  }
 },
 "nbformat": 4,
 "nbformat_minor": 2
}
